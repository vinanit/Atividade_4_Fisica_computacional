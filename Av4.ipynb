{
 "cells": [
  {
   "cell_type": "markdown",
   "id": "6423d6c6",
   "metadata": {},
   "source": [
    "![alt text](enunciado_1.png)"
   ]
  },
  {
   "cell_type": "markdown",
   "id": "4559be84",
   "metadata": {},
   "source": [
    "Fluxograma"
   ]
  },
  {
   "cell_type": "code",
   "execution_count": null,
   "id": "6b92edee",
   "metadata": {},
   "outputs": [],
   "source": [
    "#"
   ]
  },
  {
   "cell_type": "code",
   "execution_count": null,
   "id": "a11de03d",
   "metadata": {},
   "outputs": [],
   "source": [
    "from vpython import *\n",
    "\n",
    "def deslocar(corpo):\n",
    "    global dt\n",
    "    queda = True\n",
    "    p = corpo.traj.point(corpo.traj.npoints-1)['pos']\n",
    "    corpo.pos += dt*corpo.v + dt**2*corpo.a/2.\n",
    "    if corpo.v.y < 0 and corpo.pos.y < corpo.radius:\n",
    "        if p.y != corpo.pos.y:\n",
    "            f = (p.y - corpo.radius)/(p.y - corpo.pos.y)\n",
    "            corpo.pos -= (1 - f)*(corpo.pos - p)\n",
    "            corpo.v += f*dt*corpo.a\n",
    "            corpo.t += f*dt\n",
    "        queda = False\n",
    "    else:\n",
    "        corpo.t += dt\n",
    "        corpo.v += dt*corpo.a\n",
    "    corpo.traj.append(pos=vec(corpo.pos))\n",
    "    corpo.d += mag(corpo.pos - p)\n",
    "    return queda\n",
    "\n",
    "def resultados(corpo):\n",
    "    p0 = corpo.traj.point(0)['pos']\n",
    "    alcance = corpo.pos.x - p0.x\n",
    "    velocidade = corpo.d / corpo.t\n",
    "    scene.caption += '<b>'+corpo.legenda+'</b>\\n'\n",
    "    scene.caption += 'Tempo de voo         = {:.2f} s\\n'.format(corpo.t)\n",
    "    scene.caption += 'Alcance horizontal   = {:.2f} m\\n'.format(alcance)\n",
    "    scene.caption += 'Distância percorrida = {:.2f} m\\n'.format(corpo.d)\n",
    "    scene.caption += 'Velocidade média     = {:.2f} m/s\\n'.format(velocidade)\n",
    "    return\n",
    "\n",
    "def projetar(corpo, vel, ang, leg):\n",
    "    corpo.v = vel*vec(cos(ang*pi/180.), sin(ang*pi/180.), 0)\n",
    "    corpo.t = corpo.d = 0\n",
    "    corpo.legenda = leg\n",
    "    corpo.traj = curve(pos=vec(corpo.pos),color=corpo.color)\n",
    "\n",
    "scene = canvas(title = '<h1>Lançamento de projéteis no ar</h1>',\n",
    "            forward=vec(-0.5,-0.2,-1))\n",
    "scene.caption = ''\n",
    "a = 47.\n",
    "dt = 0.01\n",
    "g = vec(0,-9.8,0)\n",
    "q1 = q2 = q3 = True\n",
    "\n",
    "bola1 = sphere(pos=vec(-7.5,0.2,1), radius=0.4, color=vec(0.93,1,0.16))\n",
    "bola2 = sphere(pos=vec(-7.5,0.1,0), radius=0.2, color=vec(1,0,0))\n",
    "bola3 = sphere(pos=vec(-7.5,0.1,-1), radius=0.2, color=vec(1,0.49,0.05))\n",
    "chao = box(pos=vec(0,-0.1,0), size=vec(16,0.2,10), texture=textures.wood)\n",
    "parede = box(pos=vec(0,2.8,-5.05),size=vec(16,6,0.1), color=vec(0.7,0.7,0.7))\n",
    "sitio = text(pos=vec(0,2.8,-5), text='def.fe.up.pt', color=color.blue,\n",
    "            align='center', depth=0)\n",
    "projetar (bola1, 12, 45., 'Bola de ténis')\n",
    "projetar (bola2, 12, 45., 'Sem resistência do ar')\n",
    "projetar (bola3, 12, 45., 'Bola de ping-pong')\n",
    "bola2.a = g\n",
    "\n",
    "while q1 or q2 or q3:\n",
    "    rate(100)\n",
    "    bola1.a = g - 0.01606*mag(bola1.v)*bola1.v\n",
    "    bola3.a = g - 0.14176*mag(bola3.v)*bola3.v\n",
    "    if q1: q1 = deslocar (bola1)\n",
    "    if q2: q2 = deslocar (bola2)\n",
    "    if q3: q3 = deslocar (bola3)\n",
    "\n",
    "resultados(bola2)\n",
    "resultados(bola1)\n",
    "resultados(bola3)"
   ]
  },
  {
   "cell_type": "code",
   "execution_count": 6,
   "id": "fbd0f51e",
   "metadata": {},
   "outputs": [
    {
     "ename": "KeyboardInterrupt",
     "evalue": "",
     "output_type": "error",
     "traceback": [
      "\u001b[31m---------------------------------------------------------------------------\u001b[39m",
      "\u001b[31mKeyboardInterrupt\u001b[39m                         Traceback (most recent call last)",
      "\u001b[36mCell\u001b[39m\u001b[36m \u001b[39m\u001b[32mIn[6]\u001b[39m\u001b[32m, line 3\u001b[39m\n\u001b[32m      1\u001b[39m \u001b[38;5;28;01mfrom\u001b[39;00m\u001b[38;5;250m \u001b[39m\u001b[34;01mvpython\u001b[39;00m\u001b[38;5;250m \u001b[39m\u001b[38;5;28;01mimport\u001b[39;00m sphere, rate\n\u001b[32m----> \u001b[39m\u001b[32m3\u001b[39m bola = \u001b[43msphere\u001b[49m\u001b[43m(\u001b[49m\u001b[43m)\u001b[49m\n\u001b[32m      4\u001b[39m t = \u001b[32m0\u001b[39m\n\u001b[32m      6\u001b[39m \u001b[38;5;28;01mwhile\u001b[39;00m t < \u001b[32m10\u001b[39m:\n",
      "\u001b[36mFile \u001b[39m\u001b[32m~\\AppData\\Local\\Packages\\PythonSoftwareFoundation.Python.3.11_qbz5n2kfra8p0\\LocalCache\\local-packages\\Python311\\site-packages\\vpython\\vpython.py:1189\u001b[39m, in \u001b[36msphere.__init__\u001b[39m\u001b[34m(self, **args)\u001b[39m\n\u001b[32m   1187\u001b[39m args[\u001b[33m'\u001b[39m\u001b[33m_default_size\u001b[39m\u001b[33m'\u001b[39m] = vector(\u001b[32m2\u001b[39m,\u001b[32m2\u001b[39m,\u001b[32m2\u001b[39m)\n\u001b[32m   1188\u001b[39m args[\u001b[33m'\u001b[39m\u001b[33m_objName\u001b[39m\u001b[33m'\u001b[39m] = \u001b[33m\"\u001b[39m\u001b[33msphere\u001b[39m\u001b[33m\"\u001b[39m\n\u001b[32m-> \u001b[39m\u001b[32m1189\u001b[39m \u001b[38;5;28;43msuper\u001b[39;49m\u001b[43m(\u001b[49m\u001b[43msphere\u001b[49m\u001b[43m,\u001b[49m\u001b[43m \u001b[49m\u001b[38;5;28;43mself\u001b[39;49m\u001b[43m)\u001b[49m\u001b[43m.\u001b[49m\u001b[43msetup\u001b[49m\u001b[43m(\u001b[49m\u001b[43margs\u001b[49m\u001b[43m)\u001b[49m\n\u001b[32m   1190\u001b[39m \u001b[38;5;28mself\u001b[39m._sizing = \u001b[38;5;28;01mFalse\u001b[39;00m\n",
      "\u001b[36mFile \u001b[39m\u001b[32m~\\AppData\\Local\\Packages\\PythonSoftwareFoundation.Python.3.11_qbz5n2kfra8p0\\LocalCache\\local-packages\\Python311\\site-packages\\vpython\\vpython.py:612\u001b[39m, in \u001b[36mstandardAttributes.setup\u001b[39m\u001b[34m(self, args)\u001b[39m\n\u001b[32m    611\u001b[39m \u001b[38;5;28;01mdef\u001b[39;00m\u001b[38;5;250m \u001b[39m\u001b[34msetup\u001b[39m(\u001b[38;5;28mself\u001b[39m, args):\n\u001b[32m--> \u001b[39m\u001b[32m612\u001b[39m     \u001b[38;5;28;43msuper\u001b[39;49m\u001b[43m(\u001b[49m\u001b[43mstandardAttributes\u001b[49m\u001b[43m,\u001b[49m\u001b[43m \u001b[49m\u001b[38;5;28;43mself\u001b[39;49m\u001b[43m)\u001b[49m\u001b[43m.\u001b[49m\u001b[34;43m__init__\u001b[39;49m\u001b[43m(\u001b[49m\u001b[43m)\u001b[49m\n\u001b[32m    613\u001b[39m     \u001b[38;5;28mself\u001b[39m._constructing = \u001b[38;5;28;01mTrue\u001b[39;00m  \u001b[38;5;66;03m## calls to setters are from constructor\u001b[39;00m\n\u001b[32m    615\u001b[39m     objName = \u001b[38;5;28mself\u001b[39m._objName = args[\u001b[33m'\u001b[39m\u001b[33m_objName\u001b[39m\u001b[33m'\u001b[39m]  \u001b[38;5;66;03m## identifies object type\u001b[39;00m\n",
      "\u001b[36mFile \u001b[39m\u001b[32m~\\AppData\\Local\\Packages\\PythonSoftwareFoundation.Python.3.11_qbz5n2kfra8p0\\LocalCache\\local-packages\\Python311\\site-packages\\vpython\\vpython.py:265\u001b[39m, in \u001b[36mbaseObj.__init__\u001b[39m\u001b[34m(self, **kwargs)\u001b[39m\n\u001b[32m    262\u001b[39m \u001b[38;5;28;01mif\u001b[39;00m \u001b[38;5;129;01mnot\u001b[39;00m (baseObj._view_constructed \u001b[38;5;129;01mor\u001b[39;00m\n\u001b[32m    263\u001b[39m         baseObj._canvas_constructing):\n\u001b[32m    264\u001b[39m     \u001b[38;5;28;01mif\u001b[39;00m _isnotebook:\n\u001b[32m--> \u001b[39m\u001b[32m265\u001b[39m         \u001b[38;5;28;01mfrom\u001b[39;00m\u001b[38;5;250m \u001b[39m\u001b[34;01m.\u001b[39;00m\u001b[34;01mwith_notebook\u001b[39;00m\u001b[38;5;250m \u001b[39m\u001b[38;5;28;01mimport\u001b[39;00m _\n\u001b[32m    266\u001b[39m     \u001b[38;5;28;01melse\u001b[39;00m:\n\u001b[32m    267\u001b[39m         \u001b[38;5;28;01mfrom\u001b[39;00m\u001b[38;5;250m \u001b[39m\u001b[34;01m.\u001b[39;00m\u001b[34;01mno_notebook\u001b[39;00m\u001b[38;5;250m \u001b[39m\u001b[38;5;28;01mimport\u001b[39;00m _\n",
      "\u001b[36mFile \u001b[39m\u001b[32m~\\AppData\\Local\\Packages\\PythonSoftwareFoundation.Python.3.11_qbz5n2kfra8p0\\LocalCache\\local-packages\\Python311\\site-packages\\vpython\\with_notebook.py:154\u001b[39m\n\u001b[32m    152\u001b[39m baseObj.glow = GlowWidget(wsport=__SOCKET_PORT, wsuri=\u001b[33m'\u001b[39m\u001b[33m/ws\u001b[39m\u001b[33m'\u001b[39m)\n\u001b[32m    153\u001b[39m \u001b[38;5;28;01mwhile\u001b[39;00m (\u001b[38;5;129;01mnot\u001b[39;00m wsConnected):\n\u001b[32m--> \u001b[39m\u001b[32m154\u001b[39m     \u001b[43mtime\u001b[49m\u001b[43m.\u001b[49m\u001b[43msleep\u001b[49m\u001b[43m(\u001b[49m\u001b[32;43m0.1\u001b[39;49m\u001b[43m)\u001b[49m          \u001b[38;5;66;03m# wait for websocket to connect\u001b[39;00m\n\u001b[32m    156\u001b[39m baseObj.trigger()  \u001b[38;5;66;03m# start the trigger ping-pong process\u001b[39;00m\n\u001b[32m    159\u001b[39m \u001b[38;5;66;03m# Same justification as above for removing the ipykernel check.\u001b[39;00m\n\u001b[32m    160\u001b[39m \u001b[38;5;66;03m# There was also an IPython version check for >=4, which was\u001b[39;00m\n\u001b[32m    161\u001b[39m \u001b[38;5;66;03m# released in Nov 2015. Ok to stop supporting in 2.019 I think.\u001b[39;00m\n",
      "\u001b[31mKeyboardInterrupt\u001b[39m: "
     ]
    }
   ],
   "source": [
    "from vpython import sphere, rate\n",
    "\n",
    "bola = sphere()\n",
    "t = 0\n",
    "\n",
    "while t < 10:\n",
    "    rate(60)\n",
    "    bola.pos.x += 0.1\n",
    "    t += 0.1"
   ]
  },
  {
   "cell_type": "markdown",
   "id": "ddab16e8",
   "metadata": {},
   "source": [
    "![alt text](enunciado_2.png)"
   ]
  },
  {
   "cell_type": "code",
   "execution_count": null,
   "id": "021f21c4",
   "metadata": {},
   "outputs": [],
   "source": []
  },
  {
   "cell_type": "markdown",
   "id": "ebb4ff0a",
   "metadata": {},
   "source": [
    "![alt text](enunciado_3.png)"
   ]
  },
  {
   "cell_type": "code",
   "execution_count": null,
   "id": "51ac8d8c",
   "metadata": {},
   "outputs": [],
   "source": []
  },
  {
   "cell_type": "markdown",
   "id": "2111315c",
   "metadata": {},
   "source": [
    "![alt text](enunciado_4.png)"
   ]
  },
  {
   "cell_type": "markdown",
   "id": "2e8b75ae",
   "metadata": {},
   "source": []
  }
 ],
 "metadata": {
  "kernelspec": {
   "display_name": "Python 3",
   "language": "python",
   "name": "python3"
  },
  "language_info": {
   "codemirror_mode": {
    "name": "ipython",
    "version": 3
   },
   "file_extension": ".py",
   "mimetype": "text/x-python",
   "name": "python",
   "nbconvert_exporter": "python",
   "pygments_lexer": "ipython3",
   "version": "3.11.9"
  }
 },
 "nbformat": 4,
 "nbformat_minor": 5
}
